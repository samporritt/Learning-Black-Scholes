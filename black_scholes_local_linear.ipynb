{
 "cells": [
  {
   "cell_type": "markdown",
   "metadata": {},
   "source": [
    "# Black-Scholes Local Linear\n",
    "### Sam Porritt"
   ]
  },
  {
   "cell_type": "code",
   "execution_count": 1,
   "metadata": {},
   "outputs": [],
   "source": [
    "import matplotlib.pyplot as plt\n",
    "import pandas as pd\n",
    "import numpy as np\n",
    "from sklearn.neighbors import kneighbors_graph"
   ]
  },
  {
   "cell_type": "code",
   "execution_count": 2,
   "metadata": {},
   "outputs": [],
   "source": [
    "def CheckAccuracy(y,y_hat):\n",
    "    \n",
    "    stats = dict()\n",
    "    stats['diff'] = y - y_hat\n",
    "    stats['mse'] = (stats['diff']**2).mean()\n",
    "    print (\"Mean Squared Error:      \", stats['mse'])\n",
    "    stats['rmse'] = np.sqrt(stats['mse'])\n",
    "    print (\"Root Mean Squared Error: \", stats['rmse'])\n",
    "    stats['mae'] = (np.abs(stats['diff'])).mean()\n",
    "    print (\"Mean Absolute Error:     \", stats['mae'])\n",
    "    stats['mpe'] = np.sqrt(stats['mse'])/y.mean()\n",
    "    print (\"Mean Percent Error:      \", stats['mpe'])\n",
    "    \n",
    "    plt.figure(figsize=(10,7))\n",
    "    plt.scatter(y, y_hat,color='black',linewidth=0.3,alpha=0.4, s=0.5)\n",
    "    plt.xlabel('Actual Price',fontsize=20)\n",
    "    plt.ylabel('Predicted Price',fontsize=20) \n",
    "    plt.show()\n",
    "    \n",
    "    plt.figure(figsize=(10,7))\n",
    "    plt.hist(stats['diff'], bins=200,edgecolor='black',color='blue')\n",
    "    plt.xlabel('Diff',fontsize=20)\n",
    "    plt.ylabel('Density',fontsize=20)\n",
    "    plt.show()\n",
    "    \n",
    "    return stats"
   ]
  },
  {
   "cell_type": "code",
   "execution_count": 3,
   "metadata": {},
   "outputs": [],
   "source": [
    "class LocalLin():\n",
    "    \n",
    "    def __init__(self, X, y, k):\n",
    "        self.X_values = X\n",
    "        self.y_values = y\n",
    "        self.neighbours_graph = kneighbors_graph(X, k)\n",
    "\n",
    "    def predict(self, x_index):\n",
    "        x0 = self.X_values[x_index]\n",
    "        x_neighbours_indices = self.neighbours_graph.getrow(x_index).nonzero()[1]\n",
    "        x = np.array([self.X_values[i] for i in x_neighbours_indices])\n",
    "        y = np.array([self.y_values[i] for i in x_neighbours_indices])\n",
    "        return x0.dot(np.linalg.inv((x.transpose()).dot(x)).dot((x.transpose()).dot(y)))"
   ]
  },
  {
   "cell_type": "code",
   "execution_count": 4,
   "metadata": {},
   "outputs": [],
   "source": [
    "df = pd.read_csv('training.csv').drop(columns=['Unnamed: 0'])\n",
    "new_df = pd.DataFrame()\n",
    "new_df['S'] = df['Stock Price'] / df['Strike Price']\n",
    "new_df['C'] = df['Call Price'] / df['Strike Price']\n",
    "new_df['rT'] = df['Maturity'] * df['Risk-free']\n",
    "new_df['qT'] = df['Maturity'] * df['Dividends']\n",
    "new_df['sigmaRootT'] = df['Volatility'] * np.sqrt(df['Maturity'])\n",
    "# add all 1s feature so the linear regression formula applies\n",
    "new_df['1'] = new_df['S']/new_df['S']\n",
    "X, y = new_df.drop(columns=[\"C\"]).values, new_df[\"C\"].values"
   ]
  },
  {
   "cell_type": "code",
   "execution_count": 5,
   "metadata": {},
   "outputs": [],
   "source": [
    "localLin = LocalLin(X, y, k=80)"
   ]
  },
  {
   "cell_type": "code",
   "execution_count": 6,
   "metadata": {},
   "outputs": [
    {
     "name": "stdout",
     "output_type": "stream",
     "text": [
      "Mean Squared Error:       3.553853879999424e-08\n",
      "Root Mean Squared Error:  0.00018851668042906504\n",
      "Mean Absolute Error:      0.0001267921097043385\n",
      "Mean Percent Error:       0.0006961256098616911\n"
     ]
    },
    {
     "data": {
      "image/png": "[encoded data removed]",
      "text/plain": [
       "<Figure size 720x504 with 1 Axes>"
      ]
     },
     "metadata": {
      "needs_background": "light"
     },
     "output_type": "display_data"
    },
    {
     "data": {
      "image/png": "[encoded data removed]",
      "text/plain": [
       "<Figure size 720x504 with 1 Axes>"
      ]
     },
     "metadata": {
      "needs_background": "light"
     },
     "output_type": "display_data"
    },
    {
     "data": {
      "text/plain": [
       "{'diff': array([ 2.17412443e-07, -5.96492317e-05, -5.93028124e-05, ...,\n",
       "        -4.30629217e-05, -1.16308141e-04, -2.08935369e-04]),\n",
       " 'mse': 3.553853879999424e-08,\n",
       " 'rmse': 0.00018851668042906504,\n",
       " 'mae': 0.0001267921097043385,\n",
       " 'mpe': 0.0006961256098616911}"
      ]
     },
     "execution_count": 6,
     "metadata": {},
     "output_type": "execute_result"
    }
   ],
   "source": [
    "num_predictions = 6000\n",
    "predictions = np.array([max(0, localLin.predict(i)) for i in range(num_predictions)])\n",
    "CheckAccuracy(np.array(y[:num_predictions]), predictions)"
   ]
  },
  {
   "cell_type": "code",
   "execution_count": null,
   "metadata": {},
   "outputs": [],
   "source": []
  }
 ],
 "metadata": {
  "anaconda-cloud": {},
  "kernelspec": {
   "display_name": "Python 3",
   "language": "python",
   "name": "python3"
  },
  "language_info": {
   "codemirror_mode": {
    "name": "ipython",
    "version": 3
   },
   "file_extension": ".py",
   "mimetype": "text/x-python",
   "name": "python",
   "nbconvert_exporter": "python",
   "pygments_lexer": "ipython3",
   "version": "3.7.6"
  }
 },
 "nbformat": 4,
 "nbformat_minor": 1
}
